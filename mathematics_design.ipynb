{
 "cells": [
  {
   "cell_type": "code",
   "execution_count": null,
   "metadata": {},
   "outputs": [],
   "source": [
    "# Simple Water Quality Index (ISQA)\n",
    "# ISQA = ITEMP * (IBOD + ITSS + IDO + ICOND)\n",
    "\n",
    "# Water Temperature Index (ITEMP)\n",
    "# Biological Oxygen Demand Index (IBOD)\n",
    "# Total Suspended Solids Index (ITSS)\n",
    "# Dissolved Oxygen Index (IDO)\n",
    "# Conductivity Index (ICOND)\n",
    "\n",
    "# First, create five indexes, includes ITEMP (e.g. id = 8), IBOD (e.g. id = 9), ITSS (e.g. id = 15), IDO (e.g. id = 21), ICOND (e.g. id = 30)\n",
    "# Indexes field in TABLE Model: \n",
    "# json {\n",
    "#   1: 8,\n",
    "#   2: 9,\n",
    "#   3: 15,\n",
    "#   4: 21,\n",
    "#   5: 30\n",
    "# }\n",
    "#   formula: %1 * (%2 + %3 + %4 + %5)"
   ]
  }
 ],
 "metadata": {
  "kernelspec": {
   "display_name": "Python 3.10.8 64-bit",
   "language": "python",
   "name": "python3"
  },
  "language_info": {
   "name": "python",
   "version": "3.10.8"
  },
  "orig_nbformat": 4,
  "vscode": {
   "interpreter": {
    "hash": "b0fa6594d8f4cbf19f97940f81e996739fb7646882a419484c72d19e05852a7e"
   }
  }
 },
 "nbformat": 4,
 "nbformat_minor": 2
}
